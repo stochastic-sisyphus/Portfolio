import pandas as pd
import numpy as np
import matplotlib.pyplot as plt
from typing import Dict, List, Optional, Tuple
import seaborn as sns
from pathlib import Path
import json
import snps
import warnings
from datetime import datetime
from threading import Timer
import plotly.graph_objects as go
import plotly.express as px
from fpdf import FPDF
import streamlit as st
from sklearn.preprocessing import StandardScaler
from sklearn.decomposition import PCA
import requests
from bs4 import BeautifulSoup
import vcfpy
import pysam
import logging
from cryptography.fernet import Fernet
import os

class SNPAnalyzer:
    """Comprehensive DNA analysis tool for genetic data"""
    
    def __init__(self, file_path: str):
        try:
            # Setup logging first
            self.logger = logging.getLogger(__name__)
            self._setup_logging()
            
            self.logger.info(f"Initializing SNPAnalyzer with file: {file_path}")
            self.file_path = file_path
            
            # Load SNPs data
            self.logger.info("Loading SNPs data...")
            self.data = self._load_snps_data()
            
            # Initialize health categories
            self.logger.info("Initializing health categories...")
            self.health_categories = self._initialize_health_categories()
            
            # Load reference data
            self.logger.info("Loading reference data...")
            self.clinvar_data = self._load_clinvar_data()
            self.gwas_data = self._load_gwas_data()
            
            # Initialize encryption key for sensitive data
            self.cipher_suite = Fernet(Fernet.generate_key())
            
        except Exception as e:
            self.logger.error(f"Error initializing SNPAnalyzer: {str(e)}")
            raise

    def _load_snps_data(self) -> pd.DataFrame:
        """Load SNPs data from file and convert to DataFrame"""
        try:
            # Read the SNPs file with correct column names
            data = pd.read_csv(self.file_path, 
                          sep='\t',
                          names=['rsid', 'chromosome', 'position', 'genotype'],
                          comment='#',
                          low_memory=False)
        
            # Log available columns
            self.logger.info(f"Available columns: {list(data.columns)}")
        
            # Basic data validation
            data['chromosome'] = data['chromosome'].astype(str)
            data['position'] = pd.to_numeric(data['position'], errors='coerce')
        
            # Remove invalid entries
            data = data.dropna()
        
            self.logger.info(f"Successfully loaded {len(data)} SNPs")
            return data
        
        except Exception as e:
            self.logger.error(f"Error loading SNPs data: {str(e)}")
            raise

    def _setup_logging(self):
        """Setup logging configuration"""
        try:
            handler = logging.StreamHandler()
            handler.setLevel(logging.INFO)
            formatter = logging.Formatter('%(levelname)s: %(message)s')
            handler.setFormatter(formatter)
            self.logger.addHandler(handler)
            self.logger.setLevel(logging.INFO)
        except Exception as e:
            print(f"Error setting up logging: {str(e)}")

    def _create_position_index(self):
        """Create index for fast position-based lookups"""
        try:
            self.logger.info("Creating position index...")
            
            # Define chromosome ranges (same as in analyze_chromosome_density)
            self.chromosome_ranges = {
                '1': 248.96, '2': 242.19, '3': 198.30, '4': 190.21,
                '5': 181.54, '6': 170.81, '7': 159.35, '8': 145.14,
                '9': 138.40, '10': 133.80, '11': 135.09, '12': 133.28,
                '13': 114.36, '14': 107.04, '15': 101.99, '16': 90.34,
                '17': 83.26, '18': 80.37, '19': 58.62, '20': 64.44,
                '21': 46.71, '22': 50.82, 'X': 156.04, 'Y': 57.23
            }
            
            # Ensure we have the correct column names
            if 'chrom' in self.data.columns:
                self.data = self.data.rename(columns={'chrom': 'chromosome', 'pos': 'position'})
            
            # Sort data by chromosome and position
            self.data = self.data.sort_values(['chromosome', 'position'])
            
            # Create position ranges for each chromosome
            self.position_ranges = {}
            for chrom in self.chromosome_ranges:
                chrom_data = self.data[self.data['chromosome'] == chrom]
                if not chrom_data.empty:
                    self.position_ranges[chrom] = (
                        chrom_data['position'].min(),
                        chrom_data['position'].max()
                    )
            
            self.logger.info("Position index created successfully")
        except Exception as e:
            self.logger.error(f"Error creating position index: {str(e)}")
            raise

    def _convert_snps_to_df(self) -> pd.DataFrame:
        """Convert SNPs data to pandas DataFrame"""
        try:
            self.logger.info("Converting SNPs data to DataFrame...")
            
            # Extract data from snps object - accessing raw data directly
            df = pd.DataFrame(self.snps_data.snps)
            
            # Debug logging to see available columns
            self.logger.info(f"Available columns: {df.columns.tolist()}")
            
            # Rename columns to match our expected format
            column_mapping = {
                'chrom': 'chromosome',
                'pos': 'position',
                'id': 'rsid',  # Some files use 'id' instead of 'rsid'
                'genotype': 'genotype'
            }
            
            # Only rename columns that exist
            existing_columns = {k: v for k, v in column_mapping.items() if k in df.columns}
            df = df.rename(columns=existing_columns)
            
            # Clean and validate data
            df['chromosome'] = df['chromosome'].astype(str)
            df['chromosome'] = df['chromosome'].replace({
                '23': 'X', 
                '24': 'Y', 
                '12920': 'MT'
            })  # Convert chromosome numbers
            
            if 'position' in df.columns:
                df['position'] = pd.to_numeric(df['position'], errors='coerce')
            
            # Get required columns that exist in the DataFrame
            required_columns = ['chromosome', 'position', 'rsid']
            existing_required = [col for col in required_columns if col in df.columns]
            
            # Remove any rows with missing essential data for existing columns
            if existing_required:
                df = df.dropna(subset=existing_required)
            
            self.logger.info(f"Successfully converted {len(df)} SNPs to DataFrame")
            return df
                
        except Exception as e:
            self.logger.error(f"Error converting SNPs to DataFrame: {str(e)}")
            raise

    def _validate_input_file(self):
        """Validate input file existence and format"""
        if not self.file_path.exists():
            self.logger.error(f"Input file not found: {self.file_path}")
            raise FileNotFoundError(f"Input file not found: {self.file_path}")
            
        if self.file_path.stat().st_size > self.max_file_size:
            self.logger.error(f"File size exceeds limit: {self.file_path}")
            raise ValueError(f"File size exceeds {self.max_file_size/1024/1024}MB limit")
            
        suffix = self.file_path.suffix
        valid_format = False
        for formats in self.supported_formats.values():
            if isinstance(formats, list):
                if suffix in formats:
                    valid_format = True
                    break
            elif suffix == formats:
                valid_format = True
                break
                
        if not valid_format:
            self.logger.error(f"Unsupported file format: {suffix}")
            raise ValueError(f"Unsupported file format: {suffix}")

    def _initialize_health_categories(self) -> Dict:
        """Initialize comprehensive health and trait categories"""
        return {
            'health_insights': {
                'disease_risk': {
                    'cardiovascular': ['rs429358', 'rs7412', 'rs662799'],
                    'diabetes': ['rs7903146', 'rs1801282', 'rs5219'],
                    'cancer': ['rs61764370', 'rs4444235', 'rs6983267'],
                    'neurological': ['rs429358', 'rs7412', 'rs1799971'],
                    'autoimmune': ['rs2476601', 'rs3184504', 'rs2517646']
                },
                'pharmacogenomics': {
                    'warfarin': ['rs9923231', 'rs1799853', 'rs1057910'],
                    'clopidogrel': ['rs4244285', 'rs4986893'],
                    'statins': ['rs4149056', 'rs4363657'],
                    'antidepressants': ['rs1800497', 'rs6265']
                },
                'carrier_status': {
                    'cystic_fibrosis': ['rs113993960'],
                    'sickle_cell': ['rs334'],
                    'tay_sachs': ['rs76173977']
                }
            },
            'wellness': {
                'nutrition': {
                    'vitamin_d': ['rs2282679', 'rs10741657'],
                    'vitamin_b12': ['rs602662', 'rs492602'],
                    'iron': ['rs855791', 'rs4820268']
                },
                'fitness': {
                    'muscle_composition': ['rs1815739', 'rs11549465'],
                    'exercise_response': ['rs8192678', 'rs2228570']
                }
            }
        }

    def _load_snpedia_data(self) -> Dict:
        """Load SNPedia data from JSON file or return default data"""
        try:
            self.logger.info("Loading SNPedia data...")
            with open('snpedia_data.json', 'r') as f:
                data = json.load(f)
            self.logger.info(f"Loaded {len(data)} SNPedia entries")
            return data
        except FileNotFoundError:
            self.logger.warning("SNPedia data file not found, using default data")
            return {
                'rs429358': {'trait': 'APOE', 'significance': 'Alzheimer\'s risk'},
                'rs7412': {'trait': 'APOE', 'significance': 'Alzheimer\'s risk'},
                'rs1801133': {'trait': 'MTHFR', 'significance': 'Folate metabolism'}
            }

    def _load_clinvar_data(self) -> Dict:
        """Load ClinVar data from local cache or API"""
        try:
            self.logger.info("Loading ClinVar data...")
            cache_file = Path('clinvar_cache.json')
            if cache_file.exists() and (datetime.now() - datetime.fromtimestamp(cache_file.stat().st_mtime)).days < 30:
                with open(cache_file, 'r') as f:
                    data = json.load(f)
                self.logger.info(f"Loaded {len(data)} ClinVar entries from cache")
            else:
                self.logger.info("Fetching ClinVar data from API...")
                data = self._fetch_clinvar_data()
                with open(cache_file, 'w') as f:
                    json.dump(data, f)
            return data
        except Exception as e:
            self.logger.error(f"Error loading ClinVar data: {str(e)}")
            return {}

    def _load_gwas_data(self) -> Dict:
        """Load GWAS catalog data"""
        try:
            self.logger.info("Loading GWAS catalog data...")
            cache_file = Path('gwas_cache.json')
            if cache_file.exists() and (datetime.now() - datetime.fromtimestamp(cache_file.stat().st_mtime)).days < 30:
                with open(cache_file, 'r') as f:
                    data = json.load(f)
                self.logger.info(f"Loaded {len(data)} GWAS entries from cache")
            else:
                self.logger.info("Fetching GWAS data from API...")
                data = self._fetch_gwas_data()
                with open(cache_file, 'w') as f:
                    json.dump(data, f)
            return data
        except Exception as e:
            self.logger.error(f"Error loading GWAS data: {str(e)}")
            return {}

    def _deidentify_data(self, data: pd.DataFrame) -> pd.DataFrame:
        """Remove personally identifiable information"""
        self.logger.info("De-identifying data...")
        sensitive_columns = ['name', 'email', 'personal_info']
        for col in sensitive_columns:
            if col in data.columns:
                data = data.drop(col, axis=1)
        return data

    def _delete_uploaded_files(self):
        """Clean up temporary files after analysis"""
        try:
            self.logger.info("Cleaning up temporary files...")
            temp_files = Path('temp').glob('*')
            for f in temp_files:
                f.unlink()
            self.logger.info("Temporary files cleaned up successfully")
        except Exception as e:
            self.logger.error(f"Error deleting temporary files: {str(e)}")

    def _load_clinvar_data(self) -> Dict:
        """Load ClinVar data"""
        try:
            with open('clinvar_data.json', 'r') as f:
                return json.load(f)
        except FileNotFoundError:
            self.logger.warning("ClinVar data file not found, using empty dataset")
            return {}

    def _load_gwas_data(self) -> Dict:
        """Load GWAS catalog data"""
        try:
            with open('gwas_data.json', 'r') as f:
                return json.load(f)
        except FileNotFoundError:
            self.logger.warning("GWAS data file not found, using empty dataset")
            return {}

    def get_basic_stats(self) -> Dict:
        """Calculate basic statistics about the SNPs data"""
        try:
            self.logger.info("Calculating basic statistics...")
            
            # Get counts by chromosome
            chromosome_counts = self.data['chromosome'].value_counts().to_dict()
            
            # Calculate genotype counts
            genotype_counts = self.data['genotype'].value_counts()
            
            # Calculate heterozygous and homozygous counts
            heterozygous = self.data[self.data['genotype'].str.len() == 2]
            homozygous = self.data[self.data['genotype'].str.len() == 1]
            
            # Calculate transition/transversion ratio
            transitions = ['AG', 'GA', 'CT', 'TC']
            transversions = ['AC', 'CA', 'AT', 'TA', 'GC', 'CG', 'GT', 'TG']
            
            transition_count = sum(len(heterozygous[heterozygous['genotype'] == t]) for t in transitions)
            transversion_count = sum(len(heterozygous[heterozygous['genotype'] == t]) for t in transversions)
            
            ti_tv_ratio = transition_count / transversion_count if transversion_count > 0 else 0
            
            # Compile statistics
            stats = {
                'total_snps': len(self.data),
                'chromosome_counts': chromosome_counts,
                'heterozygous_count': len(heterozygous),
                'homozygous_count': len(homozygous),
                'genotype_distribution': genotype_counts.to_dict(),
                'ti_tv_ratio': ti_tv_ratio
            }
            
            self.summary_stats = stats
            self.logger.info("Basic statistics calculated successfully")
            return stats
            
        except Exception as e:
            self.logger.error(f"Error calculating basic stats: {str(e)}")
            raise

    def get_heterozygous_snps(self) -> pd.DataFrame:
        """Get heterozygous SNPs"""
        return self.data[self.data['genotype'].str.len() == 2]

    def get_homozygous_snps(self) -> pd.DataFrame:
        """Get homozygous SNPs"""
        return self.data[self.data['genotype'].str.len() == 1]

    def analyze_genotype_patterns(self) -> Dict[str, Dict]:
        """Analyze patterns in genotype distribution"""
        try:
            patterns = {
                'homozygous_ref': lambda x: len(set(str(x))) == 1 if pd.notna(x) else False,
                'heterozygous': lambda x: len(set(str(x))) == 2 if pd.notna(x) else False
            }
            
            results = {}
            total = len(self.data)
            
            for name, pattern in patterns.items():
                mask = self.data['genotype'].apply(pattern)
                count = mask.sum()
                results[name] = {
                    'count': count,
                    'percentage': (count / total) * 100 if total > 0 else 0
                }
                
            return results
        except Exception as e:
            self.logger.error(f"Error analyzing genotype patterns: {str(e)}")
            raise

    def analyze_chromosome_distribution(self) -> Dict[str, int]:
        """Analyze distribution of SNPs across chromosomes"""
        return self.data.groupby('chromosome')['genotype'].count().to_dict()
    
    def get_missing_genotypes(self) -> pd.DataFrame:
        """Find all missing genotypes"""
        return self.data[self.data['genotype'].isna()]
    
    def get_heterozygous_snps(self) -> pd.DataFrame:
        """Get all heterozygous SNPs"""
        return self.data[self.data['genotype'].apply(
            lambda x: len(set(str(x))) == 2 if pd.notna(x) else False
        )]
    
    def get_homozygous_snps(self) -> pd.DataFrame:
        """Get all homozygous SNPs"""
        return self.data[self.data['genotype'].apply(
            lambda x: len(set(str(x))) == 1 if pd.notna(x) else False
        )]

    def analyze_chromosome_density(self) -> Dict[str, float]:
        """Calculate SNP density per megabase for each chromosome"""
        try:
            # Define chromosome sizes in megabases (approximate human genome)
            chromosome_sizes = {
                '1': 248.96, '2': 242.19, '3': 198.30, '4': 190.21,
                '5': 181.54, '6': 170.81, '7': 159.35, '8': 145.14,
                '9': 138.40, '10': 133.80, '11': 135.09, '12': 133.28,
                '13': 114.36, '14': 107.04, '15': 101.99, '16': 90.34,
                '17': 83.26, '18': 80.37, '19': 58.62, '20': 64.44,
                '21': 46.71, '22': 50.82, 'X': 156.04, 'Y': 57.23
            }
            
            # Count SNPs per chromosome using 'chromosome' column
            chrom_counts = self.data.groupby('chromosome')['genotype'].count()
            
            # Calculate density (SNPs per megabase)
            densities = {}
            for chrom in chromosome_sizes:
                count = chrom_counts.get(chrom, 0)
                size = chromosome_sizes[chrom]
                densities[chrom] = count / size if size > 0 else 0
                
            return densities
            
        except Exception as e:
            self.logger.error(f"Error calculating chromosome density: {str(e)}")
            raise


    def analyze_health_insights(self) -> Dict:
        """Analyze health-related genetic markers"""
        health_insights = {
            'disease_risk': self._analyze_disease_risk(),
            'drug_response': self._analyze_drug_response(),
            'carrier_status': self._analyze_carrier_status()
        }
        return health_insights

    def _analyze_disease_risk(self) -> Dict:
        """Analyze disease risk markers"""
        diseases = ['cardiovascular', 'diabetes', 'cancer', 'neurological']
        results = {}
        for disease in diseases:
            results[disease] = {
                'score': 0.0,
                'risk_level': 'Unknown',
                'recommendations': ['Consult healthcare provider for proper screening']
            }
        return results

    def _calculate_risk_score(self, snp: pd.Series) -> float:
        """Calculate risk score for a given SNP"""
        try:
            return 0.0
        except Exception as e:
            self.logger.error(f"Error calculating risk score: {str(e)}")
            return 0.0

    def _interpret_risk_score(self, score: float, condition: str) -> Dict:
        """Interpret risk score and provide recommendations"""
        risk_levels = {
            0: 'Low',
            1: 'Moderate',
            2: 'High'
        }
        
        # Normalize score to 0-2 range
        normalized_score = min(2, max(0, score / 2))
        risk_level = risk_levels[int(normalized_score)]
        
        return {
            'score': score,
            'risk_level': risk_level,
            'recommendations': self._get_recommendations(condition, risk_level)
        }

    def _get_recommendations(self, condition: str, risk_level: str) -> List[str]:
        """Get personalized recommendations based on condition and risk level"""
        recommendations = {
            'cardiovascular': {
                'Low': ['Maintain healthy lifestyle', 'Regular exercise'],
                'Moderate': ['Regular blood pressure monitoring', 'Heart-healthy diet'],
                'High': ['Consult healthcare provider', 'Frequent health checkups']
            },
            'diabetes': {
                'Low': ['Maintain healthy weight', 'Regular exercise'],
                'Moderate': ['Monitor blood sugar', 'Limit refined sugars'],
                'High': ['Consult endocrinologist', 'Regular A1C testing']
            }
            # Add more conditions and recommendations
        }
        
        return recommendations.get(condition, {}).get(risk_level, ['Consult healthcare provider'])
#

    def _analyze_drug_response(self) -> Dict:
        """Analyze pharmacogenomic markers"""
        drug_markers = {
            'warfarin': ['rs9923231', 'rs1799853', 'rs1057910'],
            'clopidogrel': ['rs4244285', 'rs4986893'],
            'statins': ['rs4149056', 'rs4363657'],
            'antidepressants': ['rs1800497', 'rs6265']
        }
        
        results = {}
        for drug, markers in drug_markers.items():
            response = self._calculate_drug_response(markers)
            results[drug] = self._interpret_drug_response(response, drug)
        return results

    def _calculate_drug_response(self, markers: List[str]) -> float:
        """Calculate drug response score based on genetic markers"""
        response_score = 0
        for marker in markers:
            snp = self.search_rsid(marker)
            if snp is not None:
                response_score += self._get_variant_effect(snp)
        return response_score

    def _get_variant_effect(self, snp: pd.Series) -> float:
        """Get the effect size of a variant on drug response"""
        try:
            variant_data = self.clinvar_data.get(snp['rsid'], {})
            effect_size = variant_data.get('effect_size', 0.0)
            return effect_size
        except Exception as e:
            self.logger.error(f"Error getting variant effect for {snp['rsid']}: {str(e)}")
            return 0.0

#

    def _interpret_drug_response(self, score: float, drug: str) -> Dict:
        """Interpret drug response score and provide recommendations"""
        response_types = {
            'warfarin': {
                'low': 'May require lower dose',
                'normal': 'Standard dosing likely appropriate',
                'high': 'May require higher dose'
            },
            'clopidogrel': {
                'low': 'Poor metabolizer - alternative therapy may be needed',
                'normal': 'Normal metabolism expected',
                'high': 'Rapid metabolizer'
            }
        }
        
        # Normalize score and determine response type
        normalized_score = (score + 1) / 2  # Convert to 0-1 range
        if normalized_score < 0.33:
            response = 'low'
        elif normalized_score > 0.66:
            response = 'high'
        else:
            response = 'normal'
            
        return {
            'response_type': response,
            'interpretation': response_types.get(drug, {}).get(response, 'Unknown'),
            'score': score,
            'recommendations': self._get_drug_recommendations(drug, response)
        }

    def _get_drug_recommendations(self, drug: str, response: str) -> List[str]:
        """Get drug-specific recommendations based on response type"""
        recommendations = {
            'warfarin': {
                'low': ['Consider lower initial dose', 'More frequent INR monitoring'],
                'normal': ['Standard dosing protocol', 'Regular INR monitoring'],
                'high': ['Consider higher initial dose', 'Regular INR monitoring']
            },
            'clopidogrel': {
                'low': ['Consider alternative antiplatelet therapy', 'Discuss options with healthcare provider'],
                'normal': ['Standard dosing appropriate', 'Monitor for effectiveness'],
                'high': ['Standard dosing appropriate', 'Monitor for increased bleeding risk']
            }
        }
        
        return recommendations.get(drug, {}).get(response, ['Consult healthcare provider'])
#
    def _analyze_carrier_status(self) -> Dict:
        """Analyze carrier status for genetic conditions"""
        carrier_markers = {
            'cystic_fibrosis': ['rs113993960', 'rs199826652'],
            'sickle_cell': ['rs334', 'rs33930165'],
            'tay_sachs': ['rs76173977', 'rs121907983'],
            'hemochromatosis': ['rs1800562', 'rs1799945']
        }
        
        results = {}
        for condition, markers in carrier_markers.items():
            carrier_status = self._check_carrier_status(markers)
            results[condition] = self._interpret_carrier_status(carrier_status, condition)
        return results

    def _check_carrier_status(self, markers: List[str]) -> Dict:
        """Check carrier status for specific markers"""
        status = {'variant_count': 0, 'variants_found': []}
        
        for marker in markers:
            snp = self.search_rsid(marker)
            if snp is not None and self._is_pathogenic_variant(snp):
                status['variant_count'] += 1
                status['variants_found'].append(marker)
                
        return status

    def _is_pathogenic_variant(self, snp: pd.Series) -> bool:
        """Determine if a variant is pathogenic"""
        try:
            variant_data = self.clinvar_data.get(snp['rsid'], {})
            clinical_significance = variant_data.get('clinical_significance', '')
            return clinical_significance.lower() in ['pathogenic', 'likely_pathogenic']
        except Exception as e:
            self.logger.error(f"Error checking pathogenicity for {snp['rsid']}: {str(e)}")
            return False

    def _interpret_carrier_status(self, status: Dict, condition: str) -> Dict:
        """Interpret carrier status and provide recommendations"""
        interpretation = {
            'is_carrier': status['variant_count'] > 0,
            'variant_count': status['variant_count'],
            'variants_found': status['variants_found'],
            'recommendations': self._get_carrier_recommendations(condition, status['variant_count'] > 0)
        }
        return interpretation

    def _get_carrier_recommendations(self, condition: str, is_carrier: bool) -> List[str]:
        """Get recommendations based on carrier status"""
        if not is_carrier:
            return ['No specific actions needed based on genetic analysis']
            
        recommendations = {
            'cystic_fibrosis': [
                'Consider genetic counseling',
                'Partner testing may be recommended',
                'Discuss family planning with healthcare provider'
            ],
            'sickle_cell': [
                'Genetic counseling recommended',
                'Partner testing advised',
                'Discuss reproductive options with healthcare provider'
            ]
        }
        
        return recommendations.get(condition, ['Consult with genetic counselor'])

#

    def analyze_wellness_traits(self) -> Dict[str, Dict[str, str]]:
        """Analyze wellness-related genetic traits"""
        try:
            wellness_traits = {
                'fitness_response': {},
                'nutrition': {},
                'sleep': {},
                'stress_response': {}
            }
            
            # Add trait analysis logic here based on known SNPs
            # This is a placeholder for the actual implementation
            
            return wellness_traits
        except Exception as e:
            self.logger.error(f"Error analyzing wellness traits: {str(e)}")
            return {}

    def search_rsid(self, rsid: str) -> Optional[pd.Series]:
        """Search for specific positions in the dataset"""
        try:
            self.logger.warning(f"RSID search not available: {rsid}")
            return None
        except (IndexError, KeyError):
            return None

    def generate_report(self) -> str:
        """Generate a comprehensive text report of the analysis"""
        if not self.summary_stats:
            self.get_basic_stats()
            
        report = []
        report.append("DNA Analysis Report")
        report.append("=" * 30)
        
        # Basic Statistics
        report.append(f"\nGenome Build: {self.build} ({self.assembly})")
        report.append(f"Total SNPs analyzed: {self.summary_stats['total_snps']:,}")
        report.append(f"Missing genotypes: {self.summary_stats['missing_snps']:,}")
        report.append(f"Heterozygous SNPs: {self.summary_stats['heterozygous_count']:,}")
        report.append(f"Homozygous SNPs: {self.summary_stats['homozygous_count']:,}")
        
        # Health Insights
        health_insights = self.analyze_health_insights()
        report.append("\nHealth Insights:")
        for category, results in health_insights.items():
            report.append(f"\n{category.replace('_', ' ').title()}:")
            for item, value in results.items():
                report.append(f"  {item}: {value}")
        
        # Wellness Traits
        wellness_traits = self.analyze_wellness_traits()
        report.append("\nWellness Insights:")
        for category, results in wellness_traits.items():
            report.append(f"\n{category.replace('_', ' ').title()}:")
            for item, value in results.items():
                report.append(f"  {item}: {value}")
        
        return "\n".join(report)

    def export_report_pdf(self, output_file: str = "dna_report.pdf"):
        """Export analysis report as PDF"""
        pdf = FPDF()
        pdf.add_page()
        
        # Add title
        pdf.set_font("Arial", "B", 16)
        pdf.cell(0, 10, "DNA Analysis Report", ln=True, align="C")
        
        # Add content
        pdf.set_font("Arial", "", 12)
        report_content = self.generate_report()
        for line in report_content.split("\n"):
            pdf.cell(0, 10, line, ln=True)
        
        pdf.output(output_file)
        self.logger.info(f"PDF report exported to {output_file}")

    def export_data(self, format: str = 'csv', output_file: Optional[str] = None):
        """Export analysis data in various formats"""
        if output_file is None:
            output_file = f"dna_analysis_{datetime.now().strftime('%Y%m%d_%H%M%S')}"
            
        if format == 'csv':
            self.data.to_csv(f"{output_file}.csv", index=False)
        elif format == 'json':
            self.data.to_json(f"{output_file}.json", orient='records')
        elif format == 'excel':
            self.data.to_excel(f"{output_file}.xlsx", index=False)
        else:
            raise ValueError(f"Unsupported export format: {format}")
            
        self.logger.info(f"Data exported to {output_file}.{format}")

    def calculate_genome_coverage(self) -> Dict[str, float]:
        """Calculate coverage statistics for each chromosome"""
        try:
            coverage = {}
            chromosome_lengths = {
                '1': 248956422, '2': 242193529, '3': 198295559,
                '4': 190214555, '5': 181538259, '6': 170805979,
                '7': 159345973, '8': 145138636, '9': 138394717,
                '10': 133797422, '11': 135086622, '12': 133275309,
                '13': 114364328, '14': 107043718, '15': 101991189,
                '16': 90338345, '17': 83257441, '18': 80373285,
                '19': 58617616, '20': 64444167, '21': 46709983,
                '22': 50818468, 'X': 156040895, 'Y': 57227415
            }
            
            # Group SNPs by chromosome
            chrom_groups = self.data.groupby('chromosome')
            
            for chrom, group in chrom_groups:
                if chrom in chromosome_lengths:
                    # Calculate basic coverage metrics
                    total_positions = chromosome_lengths[chrom]
                    covered_positions = len(group)
                    coverage_percent = (covered_positions / total_positions) * 100
                    
                    coverage[chrom] = {
                        'total_length': total_positions,
                        'covered_positions': covered_positions,
                        'coverage_percent': coverage_percent
                    }
            
            self.logger.info("Genome coverage calculated successfully")
            return coverage
            
        except Exception as e:
            self.logger.error(f"Error calculating genome coverage: {str(e)}")
            raise

    def analyze_genotype_transitions(self) -> Dict[str, Dict[str, int]]:
        """Analyze transitions between different genotypes"""
        try:
            self.logger.info("Analyzing genotype transitions...")
            
            # Define transition types
            transitions = {
                'AG': 0, 'GA': 0,  # Purine transitions
                'CT': 0, 'TC': 0,  # Pyrimidine transitions
                'AC': 0, 'CA': 0,  # Transversions
                'AT': 0, 'TA': 0,
                'GC': 0, 'CG': 0,
                'GT': 0, 'TG': 0
            }
            
            # Count transitions in heterozygous SNPs
            heterozygous = self.get_heterozygous_snps()
            for genotype in heterozygous['genotype']:
                if len(genotype) == 2 and genotype in transitions:
                    transitions[genotype] += 1
            
            # Group into categories
            results = {
                'purine_transitions': transitions['AG'] + transitions['GA'],
                'pyrimidine_transitions': transitions['CT'] + transitions['TC'],
                'transversions': sum(transitions[k] for k in ['AC', 'CA', 'AT', 'TA', 'GC', 'CG', 'GT', 'TG']),
                'detailed_counts': transitions
            }
            
            self.logger.info("Genotype transitions analyzed successfully")
            return results
            
        except Exception as e:
            self.logger.error(f"Error analyzing genotype transitions: {str(e)}")
            raise

#

class VisualizationManager:
    """Handle visualization creation and management"""
    
    def __init__(self):
        self.color_schemes = {
            'chromosomes': px.colors.qualitative.Set3,
            'density': px.colors.sequential.Viridis,
            'transitions': px.colors.sequential.Plasma
        }

    def plot_chromosome_distribution(self, chromosome_counts: Dict[str, int]):
        """Plot distribution of variants across chromosomes"""
        fig = px.bar(
            x=list(chromosome_counts.keys()),
            y=list(chromosome_counts.values()),
            title="Variant Distribution Across Chromosomes",
            labels={'x': 'Chromosome', 'y': 'Count'},
            color=list(chromosome_counts.values()),
            color_continuous_scale=self.color_schemes['density']
        )
        return fig

    def plot_genotype_distribution(self, genotype_counts: Dict[str, int]):
        """Plot distribution of genotypes"""
        fig = px.pie(
            values=list(genotype_counts.values()),
            names=list(genotype_counts.keys()),
            title="Genotype Distribution"
        )
        return fig

    def plot_genome_coverage(self, coverage: Dict[str, float]):
        """Create interactive bar plot of genome coverage"""
        fig = px.bar(
            x=list(coverage.keys()),
            y=list(coverage.values()),
            title='Genome Coverage by Chromosome',
            labels={'x': 'Chromosome', 'y': 'Coverage (%)'},
            color=list(coverage.values()),
            color_continuous_scale='Viridis'
        )
        
        fig.update_layout(
            showlegend=False,
            height=600
        )
        
        return fig

    def plot_density_map(self, densities: Dict[str, float]) -> go.Figure:
        """Create a heatmap of SNP density across chromosomes"""
        try:
            # Convert dictionary to lists for plotting
            chromosomes = list(densities.keys())
            density_values = list(densities.values())
            
            # Create heatmap using plotly
            fig = go.Figure(data=go.Heatmap(
                z=[density_values],
                x=chromosomes,
                y=['Density'],
                colorscale='Viridis',
                hoverongaps=False
            ))
            
            # Update layout
            fig.update_layout(
                title='SNP Density Across Chromosomes',
                xaxis_title='Chromosome',
                yaxis_title='SNPs per Mb',
                height=400
            )
            
            return fig
            
        except Exception as e:
            logging.error(f"Error creating density map: {str(e)}")
            raise

    def plot_coverage_distribution(self, coverage: Dict[str, Dict]) -> go.Figure:
        """Create a bar plot of genome coverage distribution"""
        try:
            # Extract coverage percentages
            chromosomes = list(coverage.keys())
            coverage_values = [data['coverage_percent'] for data in coverage.values()]
            
            # Create bar plot
            fig = go.Figure(data=go.Bar(
                x=chromosomes,
                y=coverage_values,
                marker_color='rgb(55, 83, 109)'
            ))
            
            # Update layout
            fig.update_layout(
                title='Genome Coverage by Chromosome',
                xaxis_title='Chromosome',
                yaxis_title='Coverage (%)',
                yaxis_range=[0, 100],
                height=500
            )
            
            return fig
            
        except Exception as e:
            logging.error(f"Error creating coverage distribution plot: {str(e)}")
            raise

    def create_interactive_dashboard(self, analyzer: 'SNPAnalyzer'):
        """Create interactive dashboard using Streamlit"""
        try:
            st.title("DNA Analysis Dashboard")
            
            # Basic Statistics
            st.header("Basic Statistics")
            stats = analyzer.get_basic_stats()
            
            col1, col2, col3 = st.columns(3)
            with col1:
                st.metric("Total Variants", f"{stats['total_snps']:,}")
            with col2:
                st.metric("Heterozygous", f"{stats['heterozygous_count']:,}")
            with col3:
                st.metric("Homozygous", f"{stats['homozygous_count']:,}")
            
            # Visualizations
            st.header("Visualizations")
            st.plotly_chart(self.plot_chromosome_distribution(stats['chromosome_counts']))
            st.plotly_chart(self.plot_genotype_distribution(stats['genotype_distribution']))
            st.plotly_chart(self.plot_density_map(analyzer.analyze_chromosome_density()))
            st.plotly_chart(self.plot_coverage_distribution(analyzer.calculate_genome_coverage()))
        except Exception as e:
            logging.error(f"Error creating interactive dashboard: {str(e)}")
            raise

def main():
    """Main function to run DNA analysis"""
    try:
        print("Initializing DNA Analysis...")
        
        # Set the correct file path
        file_path = "/Users/student/Library/CloudStorage/OneDrive-Personal/Projects/python/dna/genome_Vanessa_Beck_v5_Full_20240804224744.txt"
        
        # Initialize analyzer with file path
        analyzer = SNPAnalyzer(file_path=file_path)

        # Get basic statistics and perform enhanced analysis
        print("\nPerforming comprehensive analysis...")
        stats = analyzer.get_basic_stats()
        patterns = analyzer.analyze_genotype_patterns()
        densities = analyzer.analyze_chromosome_density()
        coverage = analyzer.calculate_genome_coverage()
        transitions = analyzer.analyze_genotype_transitions()
        
        # Print summary of findings
        print("\nAnalysis Summary:")
        print(f"Total variants analyzed: {stats['total_snps']:,}")
        print("\nGenotype Patterns:")
        for pattern, data in patterns.items():
            print(f"- {pattern}: {data['count']:,} ({data['percentage']:.1f}%)")
        
        # Create visualization manager and dashboard
        print("\nGenerating visualizations...")
        viz = VisualizationManager()
        
        # Save visualizations
        print("Saving visualizations...")
        figures = [
            viz.plot_chromosome_distribution(stats['chromosome_counts']),
            viz.plot_genotype_distribution(stats['genotype_distribution']),
            viz.plot_density_map(densities),
            viz.plot_coverage_distribution(coverage)
        ]
        
        for i, fig in enumerate(figures):
            fig.write_html(f'dna_analysis_figure_{i+1}.html')
        
        # Optional: Launch interactive dashboard
        launch_dashboard = input("\nWould you like to launch the interactive dashboard? (y/n): ")
        if launch_dashboard.lower() == 'y':
            print("Launching interactive dashboard...")
            viz.create_interactive_dashboard(analyzer)
        
        print("\nAnalysis complete! Check the output files for detailed results.")
        
    except Exception as e:
        print(f"Error in analysis: {str(e)}")
        logging.error(f"Unexpected error during analysis: {str(e)}", exc_info=True)

class DataExporter:
    """Handle data export in various formats"""
    
    def __init__(self):
        """Initialize with encryption"""
        self.key = Fernet.generate_key()
        self.cipher_suite = Fernet(self.key)
    
    @staticmethod
    def export_csv(data: pd.DataFrame, filename: str):
        """Export data to CSV format"""
        data.to_csv(filename, index=False)
    
    @staticmethod
    def export_json(data: pd.DataFrame, filename: str):
        """Export data to JSON format"""
        data.to_json(filename, orient='records')
    
    @staticmethod
    def export_excel(data: pd.DataFrame, filename: str):
        """Export data to Excel format"""
        data.to_excel(filename, index=False)
    
    def export_encrypted(self, data: pd.DataFrame, filename: str):
        """Export encrypted data"""
        try:
            # Convert data to bytes
            data_bytes = data.to_json().encode()
            
            # Encrypt the data
            encrypted_data = self.cipher_suite.encrypt(data_bytes)
            
            # Save encrypted data
            with open(filename, 'wb') as f:
                f.write(encrypted_data)
                
        except Exception as e:
            logging.error(f"Error encrypting data: {str(e)}")
            raise
    
    def decrypt_file(self, filename: str) -> pd.DataFrame:
        """Decrypt an encrypted data file"""
        try:
            # Read encrypted data
            with open(filename, 'rb') as f:
                encrypted_data = f.read()
            
            # Decrypt the data
            decrypted_data = self.cipher_suite.decrypt(encrypted_data)
            
            # Convert back to DataFrame
            return pd.read_json(decrypted_data.decode())
            
        except Exception as e:
            logging.error(f"Error decrypting file: {str(e)}")
            raise
    
if __name__ == "__main__":
    # Configure root logger once
    logging.basicConfig(
        level=logging.INFO,
        format='%(asctime)s - %(name)s - %(levelname)s - %(message)s',
        handlers=[
            logging.FileHandler('dna_analysis.log'),
            logging.StreamHandler()
        ]
    )
    
    # Run main program
    main()